{
 "cells": [
  {
   "attachments": {},
   "cell_type": "markdown",
   "metadata": {},
   "source": [
    "## Data import"
   ]
  },
  {
   "cell_type": "code",
   "execution_count": 1,
   "metadata": {},
   "outputs": [
    {
     "name": "stdout",
     "output_type": "stream",
     "text": [
      "Found 78900 wines.\n"
     ]
    }
   ],
   "source": [
    "import json\n",
    "import os\n",
    "from collections import Counter\n",
    "\n",
    "with open(\"../../../data_cleaned.json\") as f:\n",
    "    wines = json.load(f)\n",
    "\n",
    "print(f\"Found {len(wines)} wines.\")"
   ]
  },
  {
   "attachments": {},
   "cell_type": "markdown",
   "metadata": {},
   "source": [
    "## Vintage analysis"
   ]
  },
  {
   "cell_type": "code",
   "execution_count": 2,
   "metadata": {},
   "outputs": [],
   "source": [
    "#vintages = [{wine['vintage']['name']: wine['vintage']['id']} for wines]\n",
    "vintage_ids = [wine['vintage']['id'] for wine in wines]\n",
    "wine_ids = [wine['vintage']['wine']['id'] for wine in wines]"
   ]
  },
  {
   "cell_type": "code",
   "execution_count": 3,
   "metadata": {},
   "outputs": [
    {
     "data": {
      "text/plain": [
       "1"
      ]
     },
     "execution_count": 3,
     "metadata": {},
     "output_type": "execute_result"
    }
   ],
   "source": [
    "vintage_ids = Counter(vintage_ids)\n",
    "\n",
    "vintage_ids[160094800]"
   ]
  },
  {
   "cell_type": "code",
   "execution_count": 4,
   "metadata": {},
   "outputs": [
    {
     "data": {
      "text/plain": [
       "0"
      ]
     },
     "execution_count": 4,
     "metadata": {},
     "output_type": "execute_result"
    }
   ],
   "source": [
    "wine_ids = Counter(wine_ids)\n",
    "\n",
    "wine_ids[1149396]"
   ]
  },
  {
   "cell_type": "code",
   "execution_count": 5,
   "metadata": {},
   "outputs": [
    {
     "data": {
      "text/plain": [
       "0"
      ]
     },
     "execution_count": 5,
     "metadata": {},
     "output_type": "execute_result"
    }
   ],
   "source": [
    "similars = []\n",
    "for wine in wines:\n",
    "    if wine['vintage']['wine']['id'] == 1149396:\n",
    "        similars.append({\n",
    "            \"vintage_name\": wine['vintage']['name'],\n",
    "            \"wine_name\": wine['vintage']['wine']['name'],\n",
    "            'year': wine['vintage']['year'],\n",
    "            'price': wine['price']['amount_in_euros'],\n",
    "            'status': wine['vintage']['statistics']['status'],\n",
    "            'status': wine['vintage']['statistics']['ratings_count'],\n",
    "            'status': wine['vintage']['statistics']['ratings_average'],\n",
    "        })\n",
    "\n",
    "len(similars)"
   ]
  },
  {
   "cell_type": "code",
   "execution_count": 14,
   "metadata": {},
   "outputs": [
    {
     "name": "stdout",
     "output_type": "stream",
     "text": [
      "Found 2050 non duplicates\n",
      "Found 0  duplicates\n"
     ]
    }
   ],
   "source": [
    "unique_ids = []\n",
    "non_duplicate = 0\n",
    "duplicate = 0\n",
    "\n",
    "duplicates = []\n",
    "\n",
    "for wine in wines[:2050]:\n",
    "    wine_id = wine['vintage']['wine']['id']\n",
    "    vintage_id = wine['vintage']['id']\n",
    "    unique_id = f\"{wine_id}-{vintage_id}\"\n",
    "    if unique_id not in unique_ids:\n",
    "        non_duplicate += 1\n",
    "        unique_ids.append(unique_id)\n",
    "    else:\n",
    "        duplicates.append({\n",
    "            \"vintage_name\": wine['vintage']['name'],\n",
    "            \"wine_name\": wine['vintage']['wine']['name'],\n",
    "            'year': wine['vintage']['year'],\n",
    "            'price': wine['price']['amount_in_euros'],\n",
    "            'status': wine['vintage']['statistics']['status'],\n",
    "            'status': wine['vintage']['statistics']['ratings_count'],\n",
    "            'status': wine['vintage']['statistics']['ratings_average'],\n",
    "        })\n",
    "        duplicate += 1\n",
    "\n",
    "print(f\"Found {non_duplicate} non duplicates\")\n",
    "print(f\"Found {duplicate}  duplicates\")\n",
    "\n",
    "#duplicates = sorted(duplicates, key=lambda x: x[\"vintage_name\"])\n",
    "\n",
    "# print(\"Saving duplicates for inspection...\")\n",
    "# with open(\"../../../data_tmp.json\", \"w\") as f:\n",
    "#     json.dump(duplicates, f)\n",
    "# print(\"Duplicate saved!\")"
   ]
  },
  {
   "cell_type": "code",
   "execution_count": null,
   "metadata": {},
   "outputs": [],
   "source": []
  }
 ],
 "metadata": {
  "kernelspec": {
   "display_name": "Python 3",
   "language": "python",
   "name": "python3"
  },
  "language_info": {
   "codemirror_mode": {
    "name": "ipython",
    "version": 3
   },
   "file_extension": ".py",
   "mimetype": "text/x-python",
   "name": "python",
   "nbconvert_exporter": "python",
   "pygments_lexer": "ipython3",
   "version": "3.11.2"
  },
  "orig_nbformat": 4
 },
 "nbformat": 4,
 "nbformat_minor": 2
}
