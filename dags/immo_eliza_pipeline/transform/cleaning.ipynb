{
 "cells": [
  {
   "cell_type": "code",
   "execution_count": 3,
   "metadata": {},
   "outputs": [],
   "source": [
    "import json\n",
    "import os"
   ]
  },
  {
   "cell_type": "code",
   "execution_count": 6,
   "metadata": {},
   "outputs": [
    {
     "name": "stdout",
     "output_type": "stream",
     "text": [
      "Saving sample...\n",
      "Sample saved!\n",
      "Found 10 wines.\n"
     ]
    }
   ],
   "source": [
    "with open(\"../../../data_cleaned_sample.json\") as f:\n",
    "    wines = json.load(f)\n",
    "\n",
    "print(\"Saving sample...\")\n",
    "with open(\"../../../data_cleaned_sample_2.json\", \"w\") as f:\n",
    "    json.dump(wines[:1], f)\n",
    "print(\"Sample saved!\")\n",
    "\n",
    "print(f\"Found {len(wines)} wines.\")"
   ]
  },
  {
   "attachments": {},
   "cell_type": "markdown",
   "metadata": {},
   "source": [
    "## Load the data"
   ]
  },
  {
   "cell_type": "code",
   "execution_count": 2,
   "metadata": {},
   "outputs": [
    {
     "name": "stdout",
     "output_type": "stream",
     "text": [
      "Found 77011 wines.\n"
     ]
    }
   ],
   "source": [
    "with open(\"../../../data.json\") as f:\n",
    "    wines = json.load(f)\n",
    "\n",
    "print(f\"Found {len(wines)} wines.\")"
   ]
  },
  {
   "attachments": {},
   "cell_type": "markdown",
   "metadata": {},
   "source": [
    "## Remove useless infos\n",
    "\n",
    "* Removed `prices` column because it is the same as `price`.\n",
    "* Removed `seo_name` as we won't use it.\n",
    "* Removed `background_image` as we won't use it.\n",
    "* Removed `status` as we won't use it.\n",
    "* Removed `image` as we won't use it.\n",
    "* Removed `grapes` as it is consistently empty.\n",
    "* Removed `has_valid_ratings` as we can deduce it from `statistics`.\n",
    "* Removed `style` as we won't use it.\n",
    "* Removed `vintage_type` as I suspect it to be a duplicate of `vintage`."
   ]
  },
  {
   "cell_type": "code",
   "execution_count": 4,
   "metadata": {},
   "outputs": [
    {
     "name": "stdout",
     "output_type": "stream",
     "text": [
      "Cleaned data saved!\n",
      "Before cleaning: 924 Mb\n",
      "After cleaning 415 Mb\n"
     ]
    }
   ],
   "source": [
    "for i, wine in enumerate(wines):\n",
    "    wine.pop('prices', True)\n",
    "    # vintage\n",
    "    wine['vintage'].pop('seo_name', True)\n",
    "    wine['vintage'].pop('image', True)\n",
    "    wine['vintage'].pop('grapes', True)\n",
    "    wine['vintage'].pop('has_valid_ratings', True)\n",
    "    # Wine\n",
    "    wine['vintage']['wine'].pop('seo_name', True)\n",
    "    wine['vintage']['wine'].pop('type_id', True)\n",
    "    wine['vintage']['wine'].pop('has_valid_ratings', True)\n",
    "    wine['vintage']['wine'].pop('style', True)\n",
    "    wine['vintage']['wine'].pop('vintage_type', True)\n",
    "    # Region\n",
    "    if wine['vintage']['wine'].get('region'):\n",
    "        wine['vintage']['wine']['region'].pop('seo_name', True)\n",
    "        wine['vintage']['wine']['region'].pop('name_en', True)\n",
    "        # Can not have a class\n",
    "        wine['vintage']['wine']['region'].pop('class', True)\n",
    "        wine['vintage']['wine']['region'].pop('background_image', True)\n",
    "        # country \n",
    "        wine['vintage']['wine']['region']['country'].pop('native_name', True)\n",
    "        wine['vintage']['wine']['region']['country'].pop('seo_name', True)\n",
    "        wine['vintage']['wine']['region']['country'].pop('currency', True)\n",
    "        for grape in wine['vintage']['wine'].get('region', {})['country']['most_used_grapes']:\n",
    "            grape.pop('seo_name', True)\n",
    "            grape.pop('has_detailed_info', True)\n",
    "    # Winery\n",
    "    wine['vintage']['wine']['winery'].pop('seo_name', True)\n",
    "    wine['vintage']['wine']['winery'].pop('background_image', True)\n",
    "    wine['vintage']['wine']['winery'].pop('status', True)\n",
    "    # Price\n",
    "    wine['vintage']['wine']['url'] = wine.get('price', {}).get('url')\n",
    "    wine['price']['bottle_volume_ml'] = wine.get('price', {}).get('bottle_type', {}).get('volume_ml')\n",
    "    wine['price'].pop('bottle_type', True)\n",
    "    wine['price']['amount_in_euros'] = wine.get('price', {}).get('amount')\n",
    "    wine['price'].pop('amount', True)\n",
    "    wine['price'].pop('currency', True)\n",
    "    wine['price'].pop('id', True)\n",
    "    wine['price'].pop('type', True)\n",
    "    wine['price'].pop('sku', True)\n",
    "    wine['price'].pop('url', True)\n",
    "    wine['price'].pop('visibility', True)\n",
    "    wine['price'].pop('bottle_type_id', True)\n",
    "    \n",
    "    if wine['vintage'].get('top_list_rankings'):\n",
    "        # Top list ranking\n",
    "        for rank in wine['vintage']['top_list_rankings']:\n",
    "            rank.pop('description', True)\n",
    "            rank['top_list'].pop('seo_name', True)\n",
    "            rank['top_list'].pop('type', True)\n",
    "            # Most of the time empty\n",
    "            rank['top_list'].pop('year', True)\n",
    "\n",
    "# Save cleaned file\n",
    "with open(\"../../../data_cleaned.json\", \"w\") as f:\n",
    "    json.dump(wines, f)\n",
    "print(\"Cleaned data saved!\")\n",
    "\n",
    "# By deleting data we don't need we divide the file's size by almost 2!\n",
    "print(f\"Before cleaning: {os.stat('../../../data.json').st_size // (1024 * 1024)} Mb\")\n",
    "print(f\"After cleaning {os.stat('../../../data_cleaned.json').st_size // (1024 * 1024)} Mb\")"
   ]
  },
  {
   "attachments": {},
   "cell_type": "markdown",
   "metadata": {},
   "source": [
    "## Remove duplicates\n",
    "During the scraping process, I try to minimize as much as I can the number of duplicates by dividing the price ranges. There is a hard limit on your requets that makes their API loop when you are iterating over too much pages. \n",
    "*(See comments in price_range_extractor.py)*\n",
    "\n",
    "Still, few duplicates can endup in the dataset. The following code will remove them. To ensure those are duplicate, I check if they have the same `vintage` **and** `wine` ID. "
   ]
  },
  {
   "cell_type": "code",
   "execution_count": 5,
   "metadata": {},
   "outputs": [
    {
     "name": "stdout",
     "output_type": "stream",
     "text": [
      "Found 74969 non duplicates\n",
      "Found 2042 duplicates\n",
      "Saving without duplicates...\n",
      "without duplicate saved!\n"
     ]
    }
   ],
   "source": [
    "unique_ids = []\n",
    "non_duplicate = 0\n",
    "duplicate = 0\n",
    "wine_without_duplicates = []\n",
    "\n",
    "for i, wine in enumerate(wines):\n",
    "    wine_id = wine['vintage']['wine']['id']\n",
    "    vintage_id = wine['vintage']['id']\n",
    "    # Create a unique ID for each combo wine+vintage\n",
    "    unique_id = f\"{wine_id}-{vintage_id}\"\n",
    "\n",
    "    if unique_id not in unique_ids:\n",
    "        non_duplicate += 1\n",
    "        unique_ids.append(unique_id)\n",
    "        wine_without_duplicates.append(wine)\n",
    "    else:\n",
    "        duplicate += 1\n",
    "\n",
    "print(f\"Found {non_duplicate} non duplicates\")\n",
    "print(f\"Found {duplicate} duplicates\")\n",
    "\n",
    "print(\"Saving without duplicates...\")\n",
    "with open(\"../../../data_cleaned.json\", \"w\") as f:\n",
    "    json.dump(wine_without_duplicates, f)\n",
    "print(\"without duplicate saved!\")"
   ]
  },
  {
   "attachments": {},
   "cell_type": "markdown",
   "metadata": {},
   "source": [
    "## Creating sample data\n",
    "The final json file can be quiet heavy which makes it hard to inspect manually the data. Which can be usefull to analyse the json schema for example.\n",
    "\n",
    "To allow you to quickly inspect the data, I create a sample file that containe only the first elements of the list."
   ]
  },
  {
   "cell_type": "code",
   "execution_count": 6,
   "metadata": {},
   "outputs": [
    {
     "name": "stdout",
     "output_type": "stream",
     "text": [
      "Saving sample...\n",
      "Sample saved!\n"
     ]
    }
   ],
   "source": [
    "print(\"Saving sample...\")\n",
    "with open(\"../../../data_cleaned_sample.json\", \"w\") as f:\n",
    "    json.dump(wines[:10], f)\n",
    "print(\"Sample saved!\")"
   ]
  }
 ],
 "metadata": {
  "kernelspec": {
   "display_name": "Python 3",
   "language": "python",
   "name": "python3"
  },
  "language_info": {
   "codemirror_mode": {
    "name": "ipython",
    "version": 3
   },
   "file_extension": ".py",
   "mimetype": "text/x-python",
   "name": "python",
   "nbconvert_exporter": "python",
   "pygments_lexer": "ipython3",
   "version": "3.11.3"
  },
  "orig_nbformat": 4
 },
 "nbformat": 4,
 "nbformat_minor": 2
}
