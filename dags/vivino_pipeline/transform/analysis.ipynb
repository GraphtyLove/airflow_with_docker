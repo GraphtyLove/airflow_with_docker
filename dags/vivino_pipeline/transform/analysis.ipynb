{
 "cells": [
  {
   "attachments": {},
   "cell_type": "markdown",
   "metadata": {},
   "source": [
    "## Data import"
   ]
  },
  {
   "cell_type": "code",
   "execution_count": 1,
   "metadata": {},
   "outputs": [
    {
     "name": "stdout",
     "output_type": "stream",
     "text": [
      "Found 78900 wines.\n"
     ]
    }
   ],
   "source": [
    "import json\n",
    "\n",
    "with open(\"../../../data_cleaned.json\") as f:\n",
    "    wines = json.load(f)\n",
    "\n",
    "print(f\"Found {len(wines)} wines.\")"
   ]
  },
  {
   "attachments": {},
   "cell_type": "markdown",
   "metadata": {},
   "source": [
    "## Keywords analysis\n",
    "\n",
    "### 1. Create a dict that map each group to its keywords"
   ]
  },
  {
   "cell_type": "code",
   "execution_count": 12,
   "outputs": [],
   "source": [
    "groups_keywords = {}\n",
    "\n",
    "for wine in wines:\n",
    "    for group in wine[\"vintage\"][\"wine\"][\"taste\"][\"flavor\"]:\n",
    "        if group['group'] not in groups_keywords:\n",
    "            groups_keywords[group['group']] = []\n",
    "        if \"primary_keywords\" not in group:\n",
    "            continue\n",
    "        for keyword in group[\"primary_keywords\"]:\n",
    "            if keyword['id'] not in groups_keywords[group['group']]:\n",
    "                groups_keywords[group['group']].append(keyword['id'])\n",
    "        if \"secondary_keywords\" not in group:\n",
    "            continue\n",
    "        for keyword in group[\"secondary_keywords\"]:\n",
    "\t        if keyword['id'] not in groups_keywords[group['group']]:\n",
    "\t\t        groups_keywords[group['group']].append(keyword['id'])\n",
    "\n",
    "with open(\"../../../groups_keywords_ids.json\", \"w\") as f:\n",
    "    json.dump(groups_keywords, f, indent=4)\n",
    "\n"
   ],
   "metadata": {
    "collapsed": false
   }
  },
  {
   "cell_type": "markdown",
   "source": [
    "### 2. Check if any keyword is in multiple groups"
   ],
   "metadata": {
    "collapsed": false
   }
  },
  {
   "cell_type": "code",
   "execution_count": 13,
   "outputs": [
    {
     "name": "stdout",
     "output_type": "stream",
     "text": [
      "Keyword 422 is in multiple groups.\n",
      "Keyword 134 is in multiple groups.\n",
      "Keyword 280 is in multiple groups.\n",
      "Keyword 242 is in multiple groups.\n",
      "Keyword 384 is in multiple groups.\n",
      "Keyword 14 is in multiple groups.\n",
      "Keyword 113 is in multiple groups.\n",
      "Keyword 6 is in multiple groups.\n",
      "Keyword 267 is in multiple groups.\n",
      "Keyword 88 is in multiple groups.\n",
      "Keyword 423 is in multiple groups.\n",
      "Keyword 5 is in multiple groups.\n",
      "Keyword 25 is in multiple groups.\n",
      "Keyword 6 is in multiple groups.\n",
      "Keyword 267 is in multiple groups.\n",
      "Keyword 213 is in multiple groups.\n",
      "Keyword 65 is in multiple groups.\n",
      "Keyword 62 is in multiple groups.\n",
      "Keyword 422 is in multiple groups.\n",
      "Keyword 384 is in multiple groups.\n",
      "Keyword 117 is in multiple groups.\n",
      "Keyword 83 is in multiple groups.\n",
      "Keyword 434 is in multiple groups.\n",
      "Keyword 112 is in multiple groups.\n",
      "Keyword 105 is in multiple groups.\n",
      "Keyword 290 is in multiple groups.\n",
      "Keyword 79 is in multiple groups.\n",
      "Keyword 223 is in multiple groups.\n",
      "Keyword 118 is in multiple groups.\n",
      "Keyword 407 is in multiple groups.\n",
      "Keyword 158 is in multiple groups.\n",
      "Keyword 280 is in multiple groups.\n",
      "Keyword 149 is in multiple groups.\n",
      "Keyword 423 is in multiple groups.\n",
      "Keyword 186 is in multiple groups.\n",
      "Keyword 380 is in multiple groups.\n",
      "Keyword 455 is in multiple groups.\n",
      "Keyword 5 is in multiple groups.\n",
      "Keyword 68 is in multiple groups.\n",
      "Keyword 81 is in multiple groups.\n",
      "Keyword 381 is in multiple groups.\n",
      "Keyword 105 is in multiple groups.\n",
      "Keyword 434 is in multiple groups.\n",
      "Keyword 112 is in multiple groups.\n",
      "Keyword 290 is in multiple groups.\n",
      "Keyword 435 is in multiple groups.\n",
      "Keyword 181 is in multiple groups.\n",
      "Keyword 138 is in multiple groups.\n",
      "Keyword 1 is in multiple groups.\n",
      "Keyword 258 is in multiple groups.\n",
      "Keyword 368 is in multiple groups.\n",
      "Keyword 229 is in multiple groups.\n",
      "Keyword 38 is in multiple groups.\n",
      "Keyword 335 is in multiple groups.\n",
      "Keyword 217 is in multiple groups.\n",
      "Keyword 284 is in multiple groups.\n",
      "Keyword 430 is in multiple groups.\n",
      "Keyword 424 is in multiple groups.\n",
      "Keyword 417 is in multiple groups.\n",
      "Keyword 6 is in multiple groups.\n",
      "Keyword 70 is in multiple groups.\n",
      "Keyword 244 is in multiple groups.\n",
      "Keyword 168 is in multiple groups.\n",
      "Keyword 130 is in multiple groups.\n",
      "Keyword 239 is in multiple groups.\n",
      "Keyword 244 is in multiple groups.\n",
      "Keyword 381 is in multiple groups.\n",
      "Keyword 341 is in multiple groups.\n",
      "Keyword 163 is in multiple groups.\n",
      "Keyword 229 is in multiple groups.\n",
      "Keyword 154 is in multiple groups.\n",
      "Keyword 176 is in multiple groups.\n",
      "Keyword 279 is in multiple groups.\n",
      "Keyword 381 is in multiple groups.\n",
      "Keyword 6 is in multiple groups.\n",
      "Keyword 149 is in multiple groups.\n",
      "Keyword 423 is in multiple groups.\n",
      "Keyword 36 is in multiple groups.\n",
      "Keyword 194 is in multiple groups.\n",
      "Keyword 350 is in multiple groups.\n",
      "Keyword 367 is in multiple groups.\n",
      "Keyword 23 is in multiple groups.\n"
     ]
    }
   ],
   "source": [
    "keywords = []\n",
    "for group in groups_keywords:\n",
    "    for keyword in groups_keywords[group]:\n",
    "        if keyword not in keywords:\n",
    "            keywords.append(keyword)\n",
    "        else:\n",
    "            print(f\"Keyword {keyword} is in multiple groups.\")"
   ],
   "metadata": {
    "collapsed": false
   }
  },
  {
   "cell_type": "markdown",
   "source": [
    "## Top lists analysis\n",
    "\n",
    "### 1. Create a list of toplists"
   ],
   "metadata": {
    "collapsed": false
   }
  },
  {
   "cell_type": "code",
   "execution_count": 16,
   "outputs": [],
   "source": [
    "top_lists = []\n",
    "for wine in wines:\n",
    "    if wine[\"vintage\"].get(\"top_list_rankings\") is None:\n",
    "        continue\n",
    "    for toplist_rank in wine[\"vintage\"][\"top_list_rankings\"]:\n",
    "        top_list_location = toplist_rank[\"top_list\"][\"location\"]\n",
    "\n",
    "        if top_list_location not in top_lists:\n",
    "            top_lists.append(top_list_location)"
   ],
   "metadata": {
    "collapsed": false
   }
  },
  {
   "cell_type": "code",
   "execution_count": 18,
   "outputs": [
    {
     "data": {
      "text/plain": "['_0',\n 'us_4',\n 'ie_0',\n 'de_0',\n 'ch_0',\n 'jp_0',\n 'it_0',\n 'hk_0',\n 'sg_0',\n 'gb_0',\n 'es_249',\n 'es_226',\n 'es_229',\n 'ca_65',\n 'ca_66',\n 'ca_61',\n 'us_50',\n 'es_253',\n 'pt_287',\n 'us_52',\n 'us_33',\n 'ca_73',\n 'es_237',\n 'es_269',\n 'mc_0',\n 'us_26',\n 'us_39',\n 'ca_63',\n 'es_257',\n 'es_227',\n 'us_31',\n 'es_234',\n 'us_36',\n 'es_267',\n 'pt_0',\n 'pt_283',\n 'pt_290',\n 'us_59',\n 'es_261',\n 'es_240']"
     },
     "execution_count": 18,
     "metadata": {},
     "output_type": "execute_result"
    }
   ],
   "source": [
    "top_lists"
   ],
   "metadata": {
    "collapsed": false
   }
  },
  {
   "cell_type": "code",
   "execution_count": null,
   "outputs": [],
   "source": [],
   "metadata": {
    "collapsed": false
   }
  }
 ],
 "metadata": {
  "kernelspec": {
   "display_name": "Python 3",
   "language": "python",
   "name": "python3"
  },
  "language_info": {
   "codemirror_mode": {
    "name": "ipython",
    "version": 3
   },
   "file_extension": ".py",
   "mimetype": "text/x-python",
   "name": "python",
   "nbconvert_exporter": "python",
   "pygments_lexer": "ipython3",
   "version": "3.11.3"
  },
  "orig_nbformat": 4
 },
 "nbformat": 4,
 "nbformat_minor": 2
}
